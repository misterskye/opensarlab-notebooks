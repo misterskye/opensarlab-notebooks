{
 "cells": [
  {
   "cell_type": "markdown",
   "metadata": {},
   "source": [
    "<img src=\"UNAVCO-Banner.jpg\" width=\"100%\" />\n",
    "<font face=\"Calibri\">\n",
    "<br>\n",
    "<font size=\"5\"><b>Setting Up Your UNAVCO InSAR Class Environment</b></font>\n",
    "<br><br>\n",
    "<font size=\"4\"><b>Instructors:</b><br> \n",
    "P.A. Rosen<sup>1</sup>, H. Fattahi<sup>1</sup>, D. Bekaert<sup>1</sup>, A. Donnellan<sup>1</sup>, S. Hensley<sup>1</sup>, F.J. Meyer<sup>2</sup>,P.S. Agram<sup>3</sup>, M.S. Baker<sup>4</sup>, G. Funning<sup>5</sup> <br>\n",
    "<font size=\"3\"><sup>1</sup>Jet Propulsion Laboratory; <sup>2</sup>University of Alaska Fairbanks; <sup>3</sup>Descartes Labs; <sup>4</sup>UNAVCO; <sup>5</sup>University of California, Riverside<br>\n",
    "\n",
    "\n",
    "<font size=\"3\"> This notebook sets up the Jupyter notebook environments needed to complete the UNAVCO SAR Course **\"InSAR Processing and Time-Series Analysis for Geophysical Applications: InSAR Scientific Computing Environment (ISCE), ARIA Tools, and MintPy\"**. It pulls relevant notebooks and materials from various Github repositories and prepares a working directory for you that will guide you through the lectures and labs associated with this training.\n",
    "    \n",
    "This course will provide instructional materials in the form of *Jupyter Notebooks*. The <a href=\"https://jupyter.org/\" target=\"_blank\">Jupyter Notebook</a> environment is easy to launch in any web browser for interactive data exploration with provided or new training data. Notebooks are comprised of text written in a combination of executable python code and markdown formatting including latex style mathematical equations. Another advantage of Jupyter Notebooks is that they can easily be expanded, changed, and shared with new data sets or newly available time series steps. Therefore, they provide an excellent basis for collaborative and repeatable data analysis. <br>\n",
    "</font>\n",
    "</font>\n",
    "<hr>"
   ]
  },
  {
   "cell_type": "markdown",
   "metadata": {
    "heading_collapsed": true
   },
   "source": [
    "# 1. Import Necessary Notebooks and Other Materials from Github"
   ]
  },
  {
   "cell_type": "markdown",
   "metadata": {
    "hidden": true
   },
   "source": [
    "<font face=\"Calibri\" size=\"3\">We are using ```git clone``` to copy the necessary information from Github. ```git clone``` is a ```Git``` command line utility used to target an existing repository and create a clone, or copy of the target repository. The ```--depth``` feature used in the code cell below is to reduce server load: Instead of cloning the complete repository (as usually done with git), using clone depth just clones the last clone-depth-number revisions of the targeted repository.\n",
    "    \n",
    "The following three code lines create a local copy of most recent revisions of the following ```git``` repositories:\n",
    "- ARIA-tools-docs [more information <a href=\"https://github.com/aria-tools/ARIA-tools-docs\" target=\"_blank\">here</a>]\n",
    "- MintPy-tutorial [more information <a href=\"https://github.com/insarlab/MintPy-tutorial\" target=\"_blank\">here</a>]\n",
    "- ISCE2-docs [more information <a href=\"https://github.com/isce-framework/isce2-docs\" target=\"_blank\">here</a>]\n",
    "\n",
    "</font>"
   ]
  },
  {
   "cell_type": "code",
   "execution_count": null,
   "metadata": {
    "hidden": true
   },
   "outputs": [],
   "source": [
    "!git clone https://github.com/aria-tools/ARIA-tools-docs.git --depth 1\n",
    "\n",
    "!git clone https://github.com/insarlab/MintPy-tutorial.git --depth 1\n",
    "\n",
    "!git clone https://github.com/isce-framework/isce2-docs.git --depth 1"
   ]
  },
  {
   "cell_type": "markdown",
   "metadata": {
    "heading_collapsed": true
   },
   "source": [
    "# 2. Collecting Other Notebooks Needed for this Class"
   ]
  },
  {
   "cell_type": "markdown",
   "metadata": {
    "hidden": true
   },
   "source": [
    "<font face=\"Calibri\" size=\"3\">The lines below additionally collect a few notebooks and files that are already available on the OpenSARLab and will be used in this training.</font>"
   ]
  },
  {
   "cell_type": "code",
   "execution_count": null,
   "metadata": {
    "hidden": true
   },
   "outputs": [],
   "source": [
    "!cp -r /home/jovyan/notebooks/ASF/GEOS_657_Labs/2021/NotebookAddons/ .\n",
    "!cp -r /home/jovyan/notebooks/ASF/GEOS_657_Labs/2021/asf_notebook.py ."
   ]
  },
  {
   "cell_type": "markdown",
   "metadata": {
    "hidden": true
   },
   "source": [
    "<hr>"
   ]
  },
  {
   "cell_type": "markdown",
   "metadata": {
    "heading_collapsed": true
   },
   "source": [
    "# 3. Links to the Pre-Course Notebooks"
   ]
  },
  {
   "cell_type": "markdown",
   "metadata": {
    "hidden": true
   },
   "source": [
    "<font face=\"Calibri\" size=\"3\">Once you successfully cloned the notebooks as instructed in Step 1, you can prepare for the upcoming InSAR course by completing the following pre-course notebooks.\n",
    "\n",
    "- [Math Essentials](isce2-docs/Notebooks/UNAVCO_2020/MathBasics/MathBasics.ipynb)\n",
    "- [Introduction to Raster Data](isce2-docs/Notebooks/UNAVCO_2020/GDAL/01_IntroToRasterData.ipynb)\n",
    "- [SAR Principles and Phenomenology](isce2-docs/Notebooks/UNAVCO_2020/Theory/SAR/SAR.ipynb)  \n",
    "- [Data Access](isce2-docs/Notebooks/UNAVCO_2020/DataAccess/GRFN.ipynb) \n",
    "- [DATA Access with SSARA](isce2-docs/Notebooks/UNAVCO_2020/DataAccess/SSARA.ipynb)\n",
    "\n",
    "<hr>\n",
    "</font>"
   ]
  },
  {
   "cell_type": "markdown",
   "metadata": {
    "heading_collapsed": true
   },
   "source": [
    "# 4. Version Log"
   ]
  },
  {
   "cell_type": "markdown",
   "metadata": {
    "hidden": true
   },
   "source": [
    "<font face=\"Calibri\" size=\"2\" color=\"gray\"> <i> Version 1.2 - Franz J Meyer; 8/04/2020\n",
    "\n",
    "Recent Changes:\n",
    "- Updated link to MintPy\n",
    "- Revision of notebook text\n",
    "- Added information about pre-course notebooks\n",
    "</i></font>"
   ]
  }
 ],
 "metadata": {
  "kernelspec": {
   "display_name": "Python 3",
   "language": "python",
   "name": "python3"
  },
  "language_info": {
   "codemirror_mode": {
    "name": "ipython",
    "version": 3
   },
   "file_extension": ".py",
   "mimetype": "text/x-python",
   "name": "python",
   "nbconvert_exporter": "python",
   "pygments_lexer": "ipython3",
   "version": "3.8.6"
  }
 },
 "nbformat": 4,
 "nbformat_minor": 4
}
