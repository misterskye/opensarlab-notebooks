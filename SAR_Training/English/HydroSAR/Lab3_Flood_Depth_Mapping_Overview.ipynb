{
 "cells": [
  {
   "cell_type": "markdown",
   "metadata": {},
   "source": [
    "![HydroSAR Banner](./NotebookAddOns/HydroSARbanner.jpg)\n",
    "\n",
    "# Load HyP3 Data for Flood Depth Mapping\n",
    "\n",
    "<img style=\"padding: 7px\" src=\"../Master/NotebookAddons/UAFLogo_A_647.png\" width=\"170\" align=\"right\"/>\n",
    "\n",
    "**Part of NASA A.37 Project:** Integrating SAR Data for Improved Resilience and Response to Weather-Related Disasters\n",
    "\n",
    "PI: **Franz J. Meyer**\n",
    "\n",
    "**Batuhan Osmanoglu, MinJeong Jo; NASA Goddard Space Fligth Center**\n",
    "\n",
    "This notebook uses flood-extent data from an ASF-HyP3 subscription. DEM tiles are extracted and mosaicked to a consistent large-scale product for use in other HydroSAR workflows. Either the production DEM can be used to generate HAND or alternative HAND DEM can be downloaded. Flood depth can be estimated using HAND.  \n",
    "\n",
    "--- \n",
    "\n",
    "## The Complete Flood Depth Mapping Sequence\n",
    "\n",
    "This notebook provides links to the notebooks that need to be run to complete the **HydroSAR Flood Depth Mapping Sequence**. The sequence consists of running the following notebooks in the order given:\n",
    "    \n",
    "1. **Complete Lab 2** [Lab2-SurfaceWaterExtentMapping.ipynb](./Lab2-SurfaceWaterExtentMapping.ipynb)\n",
    "1. **Prepare HAND layer:**\n",
    "   - Use existing HAND DEM: Bangladesh_Training_DEM_hand.tif (Skip step 2) **<-- This is what we will do today**\n",
    "   - OR Generate HAND using DEM by running [Big_Hand_notebook.ipynb](./Big_Hand_notebook.ipynb)\n",
    "   - OR Download HAND using [Download_HAND_from_GEE.ipynb](./Download_HAND_from_GEE.ipynb)\n",
    "1. **Flood Depth Estimation:** Run [Flood_Depth_Estimation_with_Flood_Extent_Maps.ipynb](./Flood_Depth_Estimation_with_Flood_Extent_Maps.ipynb) \n"
   ]
  },
  {
   "cell_type": "markdown",
   "metadata": {
    "hidden": true
   },
   "source": [
    "---\n",
    "\n",
    "*Lab3_Flood_Depth_Mapping_Overview.ipynb - Version 1.0.2 - January 2021*\n",
    "\n",
    "*Version Changes:*\n",
    "\n",
    "- *html -> markdown*"
   ]
  }
 ],
 "metadata": {
  "kernelspec": {
   "display_name": "Python 3 (ipykernel)",
   "language": "python",
   "name": "python3"
  },
  "language_info": {
   "codemirror_mode": {
    "name": "ipython",
    "version": 3
   },
   "file_extension": ".py",
   "mimetype": "text/x-python",
   "name": "python",
   "nbconvert_exporter": "python",
   "pygments_lexer": "ipython3",
   "version": "3.9.6"
  },
  "toc": {
   "base_numbering": 1,
   "nav_menu": {},
   "number_sections": true,
   "sideBar": true,
   "skip_h1_title": false,
   "title_cell": "Table of Contents",
   "title_sidebar": "Contents",
   "toc_cell": false,
   "toc_position": {},
   "toc_section_display": true,
   "toc_window_display": false
  }
 },
 "nbformat": 4,
 "nbformat_minor": 4
}
